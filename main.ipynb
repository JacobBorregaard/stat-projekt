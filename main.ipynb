{
 "cells": [
  {
   "cell_type": "code",
   "execution_count": 33,
   "outputs": [],
   "source": [
    "import pandas as pd\n",
    "from sklearn.model_selection import LeaveOneOut\n",
    "from sklearn.linear_model import LogisticRegression\n",
    "\n",
    "filename = \"horse_data23.txt\"\n",
    "\n",
    "df = pd.read_table(filename)\n",
    "\n",
    "#er ved at prøve og finde ud af hvordan vi reader filen ordentligt det her virker ikke\n"
   ],
   "metadata": {
    "collapsed": false
   }
  },
  {
   "cell_type": "code",
   "execution_count": 45,
   "outputs": [
    {
     "name": "stdout",
     "output_type": "stream",
     "text": [
      "0.3411764705882353\n"
     ]
    }
   ],
   "source": [
    "#logistic regression on A/W\n",
    "\n",
    "#\n",
    "y = df[\"lameLeg\"]\n",
    "X = df[[\"A\",\"W\"]]\n",
    "\n",
    "\n",
    "\n",
    "# Create logistic regression object\n",
    "logistic_regression = LogisticRegression()\n",
    "\n",
    "loo = LeaveOneOut()\n",
    "\n",
    "predictions = []\n",
    "\n",
    "# Loop through the indices of the samples\n",
    "for train_index, test_index in loo.split(X):\n",
    "    # Get the training and test data\n",
    "    X_train, X_test = X.iloc[train_index], X.iloc[test_index]\n",
    "    y_train, y_test = y.iloc[train_index], y.iloc[test_index]\n",
    "\n",
    "    # Fit the model on the training data\n",
    "    logistic_regression.fit(X_train, y_train)\n",
    "\n",
    "    # Make predictions on the test data\n",
    "    y_pred = logistic_regression.predict(X_test)\n",
    "\n",
    "    # Append the prediction to the list\n",
    "    predictions.append(y_pred[0])\n",
    "\n",
    "# Calculate the accuracy of the model\n",
    "accuracy = sum(predictions == y) / len(y)\n",
    "print(accuracy)\n",
    "\n"
   ],
   "metadata": {
    "collapsed": false
   }
  },
  {
   "cell_type": "code",
   "execution_count": 46,
   "outputs": [
    {
     "name": "stdout",
     "output_type": "stream",
     "text": [
      "0.4588235294117647\n"
     ]
    }
   ],
   "source": [
    "#logistic regression on PC3/PC4\n",
    "\n",
    "#\n",
    "y = df[\"lameLeg\"]\n",
    "X = df[[\"pc3\",\"pc4\",\"A\",\"W\"]]\n",
    "\n",
    "\n",
    "\n",
    "# Create logistic regression object\n",
    "logistic_regression = LogisticRegression()\n",
    "\n",
    "loo = LeaveOneOut()\n",
    "\n",
    "predictions = []\n",
    "\n",
    "# Loop through the indices of the samples\n",
    "for train_index, test_index in loo.split(X):\n",
    "    # Get the training and test data\n",
    "    X_train, X_test = X.iloc[train_index], X.iloc[test_index]\n",
    "    y_train, y_test = y.iloc[train_index], y.iloc[test_index]\n",
    "\n",
    "    # Fit the model on the training data\n",
    "    logistic_regression.fit(X_train, y_train)\n",
    "\n",
    "    # Make predictions on the test data\n",
    "    y_pred = logistic_regression.predict(X_test)\n",
    "\n",
    "    # Append the prediction to the list\n",
    "    predictions.append(y_pred[0])\n",
    "\n",
    "# Calculate the accuracy of the model\n",
    "accuracy = sum(predictions == y) / len(y)\n",
    "print(accuracy)\n",
    "\n"
   ],
   "metadata": {
    "collapsed": false
   }
  },
  {
   "cell_type": "code",
   "execution_count": 43,
   "outputs": [
    {
     "name": "stdout",
     "output_type": "stream",
     "text": [
      "23\n",
      "32\n",
      "30\n"
     ]
    }
   ],
   "source": [
    "#diagnol values transformation\n",
    "df_trans = df.copy()\n",
    "\n",
    "\n",
    "\n",
    "df_trans.loc[df_trans.lameLeg == \"left:hind\", \"lameLeg\"] = \"right:left\"\n",
    "df_trans.loc[df_trans.lameLeg == \"right:fore\", \"lameLeg\"] = \"right:left\"\n",
    "df_trans.loc[df_trans.lameLeg == \"left:fore\", \"lameLeg\"] = \"left:right\"\n",
    "df_trans.loc[df_trans.lameLeg == \"right:hind\", \"lameLeg\"] = \"left:right\"\n",
    "\n",
    "print(sum(df_trans.lameLeg == \"none\"))\n",
    "print(sum(df_trans.lameLeg == \"right:left\"))\n",
    "print(sum(df_trans.lameLeg == \"left:right\"))"
   ],
   "metadata": {
    "collapsed": false
   }
  },
  {
   "cell_type": "code",
   "execution_count": null,
   "outputs": [],
   "source": [
    "y = df_trans[\"lameLeg\"]\n",
    "X = df[[\"pc3\",\"pc4\",\"A\",\"W\"]]\n",
    "\n",
    "\n",
    "\n",
    "# Create logistic regression object\n",
    "logistic_regression = LogisticRegression()\n",
    "\n",
    "loo = LeaveOneOut()\n",
    "\n",
    "predictions = []\n",
    "\n",
    "# Loop through the indices of the samples\n",
    "for train_index, test_index in loo.split(X):\n",
    "    # Get the training and test data\n",
    "    X_train, X_test = X.iloc[train_index], X.iloc[test_index]\n",
    "    y_train, y_test = y.iloc[train_index], y.iloc[test_index]\n",
    "\n",
    "    # Fit the model on the training data\n",
    "    logistic_regression.fit(X_train, y_train)\n",
    "\n",
    "    # Make predictions on the test data\n",
    "    y_pred = logistic_regression.predict(X_test)\n",
    "\n",
    "    # Append the prediction to the list\n",
    "    predictions.append(y_pred[0])\n",
    "\n",
    "# Calculate the accuracy of the model\n",
    "accuracy = sum(predictions == y) / len(y)\n",
    "print(accuracy)\n"
   ],
   "metadata": {
    "collapsed": false
   }
  },
  {
   "cell_type": "code",
   "execution_count": null,
   "outputs": [],
   "source": [],
   "metadata": {
    "collapsed": false
   }
  }
 ],
 "metadata": {
  "kernelspec": {
   "display_name": "Python 3",
   "language": "python",
   "name": "python3"
  },
  "language_info": {
   "codemirror_mode": {
    "name": "ipython",
    "version": 2
   },
   "file_extension": ".py",
   "mimetype": "text/x-python",
   "name": "python",
   "nbconvert_exporter": "python",
   "pygments_lexer": "ipython2",
   "version": "2.7.6"
  }
 },
 "nbformat": 4,
 "nbformat_minor": 0
}
