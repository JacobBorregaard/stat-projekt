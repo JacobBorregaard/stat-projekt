{
 "cells": [
  {
   "cell_type": "code",
   "execution_count": 1,
   "outputs": [],
   "source": [
    "import pandas as pd\n",
    "\n",
    "\n",
    "filename = \"horse_data23.txt\"\n",
    "\n",
    "df = pd.read_table(filename)\n",
    "\n",
    "#er ved at prøve og finde ud af hvordan vi reader filen ordentligt det her virker ikke\n",
    "\n"
   ],
   "metadata": {
    "collapsed": false
   }
  },
  {
   "cell_type": "code",
   "execution_count": 2,
   "outputs": [
    {
     "name": "stdout",
     "output_type": "stream",
     "text": [
      "     experiment horse    lameLeg lameSide lameForeHind         A         S  \\\n",
      "1             1    B1       none     none         none -0.002304 -4.513454   \n",
      "2             1    B1       none     none         none -0.045322 -4.453982   \n",
      "3             1    B1       none     none         none -0.010038 -6.086829   \n",
      "4             1    B1       none     none         none -0.001488 -4.520627   \n",
      "16            1    B2       none     none         none -0.126048 -5.303123   \n",
      "..          ...   ...        ...      ...          ...       ...       ...   \n",
      "97            2    B9  left:hind     left         hind -0.073426 -6.227434   \n",
      "98            2    B9  left:hind     left         hind -0.258596 -4.505633   \n",
      "99            2    B9  left:fore     left         fore  0.222339 -3.637442   \n",
      "100           2    B9  left:fore     left         fore  0.223893 -3.080127   \n",
      "101           2    B9       none     none         none  0.003749 -5.915454   \n",
      "\n",
      "            W       pc1       pc2       pc3       pc4  \n",
      "1   -0.013884  0.121519  0.031750  0.046953  0.144889  \n",
      "2   -0.012962  0.125487 -0.001296  0.043845  0.125972  \n",
      "3   -0.008943  0.122509 -0.096972  0.007267  0.034485  \n",
      "4   -0.009451  0.115689  0.129737  0.029682  0.128926  \n",
      "16   0.002075  0.114835 -0.032392  0.018564 -0.118194  \n",
      "..        ...       ...       ...       ...       ...  \n",
      "97   0.004875  0.065826  0.158089 -0.015322  0.008032  \n",
      "98  -0.007239  0.094378  0.042436  0.047290 -0.052844  \n",
      "99   0.043556  0.085855  0.059612 -0.103672  0.055366  \n",
      "100  0.055944  0.087354  0.023740 -0.124766  0.009079  \n",
      "101 -0.007998  0.074692  0.140703  0.021672  0.038830  \n",
      "\n",
      "[85 rows x 12 columns]\n"
     ]
    }
   ],
   "source": [
    "print(df)\n",
    "\n"
   ],
   "metadata": {
    "collapsed": false
   }
  }
 ],
 "metadata": {
  "kernelspec": {
   "display_name": "Python 3",
   "language": "python",
   "name": "python3"
  },
  "language_info": {
   "codemirror_mode": {
    "name": "ipython",
    "version": 2
   },
   "file_extension": ".py",
   "mimetype": "text/x-python",
   "name": "python",
   "nbconvert_exporter": "python",
   "pygments_lexer": "ipython2",
   "version": "2.7.6"
  }
 },
 "nbformat": 4,
 "nbformat_minor": 0
}
