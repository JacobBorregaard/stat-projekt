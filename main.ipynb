{
 "cells": [
  {
   "cell_type": "code",
   "execution_count": 33,
   "outputs": [],
   "source": [
    "import pandas as pd\n",
    "from sklearn.model_selection import LeaveOneOut\n",
    "from sklearn.linear_model import LogisticRegression\n",
    "from statsmodels.stats.contingency_tables import mcnemar\n",
    "from sklearn.metrics import accuracy_score\n",
    "from sklearn.metrics import confusion_matrix\n",
    "\n",
    "\n",
    "\n",
    "filename = \"horse_data23.txt\"\n",
    "\n",
    "df = pd.read_table(filename)\n",
    "\n",
    "#er ved at prøve og finde ud af hvordan vi reader filen ordentligt det her virker ikke\n"
   ],
   "metadata": {
    "collapsed": false
   }
  },
  {
   "cell_type": "code",
   "execution_count": 3,
   "outputs": [
    {
     "name": "stdout",
     "output_type": "stream",
     "text": [
      "0.3411764705882353\n"
     ]
    }
   ],
   "source": [
    "#logistic regression on A/W\n",
    "\n",
    "#\n",
    "y = df[\"lameLeg\"]\n",
    "X = df[[\"A\",\"W\"]]\n",
    "\n",
    "\n",
    "\n",
    "# Create logistic regression object\n",
    "logistic_regression = LogisticRegression()\n",
    "\n",
    "loo = LeaveOneOut()\n",
    "\n",
    "predictions = []\n",
    "\n",
    "# Loop through the indices of the samples\n",
    "for train_index, test_index in loo.split(X):\n",
    "    # Get the training and test data\n",
    "    X_train, X_test = X.iloc[train_index], X.iloc[test_index]\n",
    "    y_train, y_test = y.iloc[train_index], y.iloc[test_index]\n",
    "\n",
    "    # Fit the model on the training data\n",
    "    logistic_regression.fit(X_train, y_train)\n",
    "\n",
    "    # Make predictions on the test data\n",
    "    y_pred = logistic_regression.predict(X_test)\n",
    "\n",
    "    # Append the prediction to the list\n",
    "    predictions.append(y_pred[0])\n",
    "\n",
    "# Calculate the accuracy of the model\n",
    "accuracy = sum(predictions == y) / len(y)\n",
    "print(accuracy)\n",
    "\n"
   ],
   "metadata": {
    "collapsed": false
   }
  },
  {
   "cell_type": "code",
   "execution_count": 10,
   "outputs": [
    {
     "name": "stdout",
     "output_type": "stream",
     "text": [
      "0.4588235294117647\n",
      "['none', 'none', 'none', 'none', 'none', 'none', 'none', 'none', 'none', 'none', 'none', 'none', 'none', 'none', 'none', 'none', 'right:hind', 'none', 'none', 'none', 'right:fore', 'none', 'left:fore', 'none', 'none', 'right:hind', 'left:hind', 'left:hind', 'none', 'none', 'none', 'none', 'none', 'none', 'left:hind', 'none', 'none', 'none', 'right:hind', 'none', 'none', 'none', 'right:fore', 'right:fore', 'none', 'left:hind', 'none', 'none', 'none', 'right:hind', 'right:hind', 'none', 'none', 'left:hind', 'right:fore', 'none', 'right:hind', 'none', 'right:hind', 'right:hind', 'none', 'left:hind', 'none', 'right:fore', 'none', 'left:fore', 'none', 'none', 'right:hind', 'right:fore', 'right:fore', 'none', 'right:fore', 'right:hind', 'right:hind', 'none', 'none', 'left:fore', 'none', 'none', 'none', 'none', 'right:hind', 'left:fore', 'none']\n"
     ]
    }
   ],
   "source": [
    "#logistic regression on PC3/PC4\n",
    "\n",
    "#\n",
    "y = df[\"lameLeg\"]\n",
    "X = df[[\"pc3\",\"pc4\",\"A\",\"W\"]]\n",
    "\n",
    "\n",
    "\n",
    "# Create logistic regression object\n",
    "logistic_regression = LogisticRegression()\n",
    "\n",
    "loo = LeaveOneOut()\n",
    "\n",
    "predictions = []\n",
    "\n",
    "# Loop through the indices of the samples\n",
    "for train_index, test_index in loo.split(X):\n",
    "    # Get the training and test data\n",
    "    X_train, X_test = X.iloc[train_index], X.iloc[test_index]\n",
    "    y_train, y_test = y.iloc[train_index], y.iloc[test_index]\n",
    "\n",
    "    # Fit the model on the training data\n",
    "    logistic_regression.fit(X_train, y_train)\n",
    "\n",
    "    # Make predictions on the test data\n",
    "    y_pred = logistic_regression.predict(X_test)\n",
    "\n",
    "    # Append the prediction to the list\n",
    "    predictions.append(y_pred[0])\n",
    "\n",
    "# Calculate the accuracy of the model\n",
    "accuracy = sum(predictions == y) / len(y)\n",
    "print(accuracy)\n",
    "print(predictions)\n",
    "\n"
   ],
   "metadata": {
    "collapsed": false
   }
  },
  {
   "cell_type": "code",
   "execution_count": 4,
   "outputs": [
    {
     "name": "stdout",
     "output_type": "stream",
     "text": [
      "23\n",
      "32\n",
      "30\n"
     ]
    }
   ],
   "source": [
    "#diagnol values transformation\n",
    "df_trans = df.copy()\n",
    "\n",
    "\n",
    "\n",
    "df_trans.loc[df_trans.lameLeg == \"left:hind\", \"lameLeg\"] = \"right:left\"\n",
    "df_trans.loc[df_trans.lameLeg == \"right:fore\", \"lameLeg\"] = \"right:left\"\n",
    "df_trans.loc[df_trans.lameLeg == \"left:fore\", \"lameLeg\"] = \"left:right\"\n",
    "df_trans.loc[df_trans.lameLeg == \"right:hind\", \"lameLeg\"] = \"left:right\"\n",
    "\n",
    "print(sum(df_trans.lameLeg == \"none\"))\n",
    "print(sum(df_trans.lameLeg == \"right:left\"))\n",
    "print(sum(df_trans.lameLeg == \"left:right\"))"
   ],
   "metadata": {
    "collapsed": false
   }
  },
  {
   "cell_type": "code",
   "execution_count": 37,
   "outputs": [
    {
     "name": "stdout",
     "output_type": "stream",
     "text": [
      "0.7058823529411765\n"
     ]
    }
   ],
   "source": [
    "y = df_trans[\"lameLeg\"]\n",
    "X = df[[\"pc3\",\"pc4\",]]\n",
    "\n",
    "\n",
    "\n",
    "# Create logistic regression object\n",
    "logistic_regression = LogisticRegression()\n",
    "\n",
    "loo = LeaveOneOut()\n",
    "\n",
    "predictions1 = []\n",
    "\n",
    "# Loop through the indices of the samples\n",
    "for train_index, test_index in loo.split(X):\n",
    "    # Get the training and test data\n",
    "    X_train, X_test = X.iloc[train_index], X.iloc[test_index]\n",
    "    y_train, y_test = y.iloc[train_index], y.iloc[test_index]\n",
    "\n",
    "    # Fit the model on the training data\n",
    "    logistic_regression.fit(X_train, y_train)\n",
    "\n",
    "    # Make predictions on the test data\n",
    "    y_pred = logistic_regression.predict(X_test)\n",
    "\n",
    "    # Append the prediction to the list\n",
    "    predictions1.append(y_pred[0])\n",
    "\n",
    "# Calculate the accuracy of the model\n",
    "accuracy1 = sum(predictions1 == y) / len(y)\n",
    "print(accuracy1)\n",
    "\n"
   ],
   "metadata": {
    "collapsed": false
   }
  },
  {
   "cell_type": "code",
   "execution_count": 38,
   "outputs": [
    {
     "name": "stdout",
     "output_type": "stream",
     "text": [
      "0.7176470588235294\n",
      "McNemar's test statistic: -4.454545454545454\n",
      "p-value: 1.0\n"
     ]
    }
   ],
   "source": [
    "y = df_trans[\"lameLeg\"]\n",
    "\n",
    "X = df_trans[[\"W\",\"pc3\",\"pc4\",\"A\"]]\n",
    "\n",
    "\n",
    "\n",
    "# Create logistic regression object\n",
    "logistic_regression = LogisticRegression()\n",
    "\n",
    "loo = LeaveOneOut()\n",
    "\n",
    "predictions2 = []\n",
    "\n",
    "# Loop through the indices of the samples\n",
    "for train_index, test_index in loo.split(X):\n",
    "    # Get the training and test data\n",
    "    X_train, X_test = X.iloc[train_index], X.iloc[test_index]\n",
    "    y_train, y_test = y.iloc[train_index], y.iloc[test_index]\n",
    "\n",
    "    # Fit the model on the training data\n",
    "    logistic_regression.fit(X_train, y_train)\n",
    "\n",
    "    # Make predictions on the test data\n",
    "    y_pred = logistic_regression.predict(X_test)\n",
    "\n",
    "    # Append the prediction to the list\n",
    "    predictions2.append(y_pred[0])\n",
    "\n",
    "# Calculate the accuracy of the model\n",
    "accuracy2 = sum(predictions2 == y) / len(y)\n",
    "print(accuracy2)\n",
    "\n",
    "# create a confusion matrix from the two sets of predictions\n",
    "table = confusion_matrix(y, predictions1, labels=None, sample_weight=None) - confusion_matrix(y, predictions2, labels=None, sample_weight=None)\n",
    "\n",
    "# McNemar's test\n",
    "result = mcnemar(table, exact=False, correction=False)\n",
    "\n",
    "print('McNemar\\'s test statistic:', result.statistic)\n",
    "print('p-value:', result.pvalue)"
   ],
   "metadata": {
    "collapsed": false
   }
  },
  {
   "cell_type": "code",
   "execution_count": 32,
   "outputs": [
    {
     "ename": "TypeError",
     "evalue": "'bool' object is not iterable",
     "output_type": "error",
     "traceback": [
      "\u001B[1;31m---------------------------------------------------------------------------\u001B[0m",
      "\u001B[1;31mTypeError\u001B[0m                                 Traceback (most recent call last)",
      "\u001B[1;32m<ipython-input-32-79478588a55b>\u001B[0m in \u001B[0;36m<module>\u001B[1;34m\u001B[0m\n\u001B[0;32m     11\u001B[0m \u001B[1;33m\u001B[0m\u001B[0m\n\u001B[0;32m     12\u001B[0m \u001B[1;31m# Contingency table\u001B[0m\u001B[1;33m\u001B[0m\u001B[1;33m\u001B[0m\u001B[1;33m\u001B[0m\u001B[0m\n\u001B[1;32m---> 13\u001B[1;33m \u001B[0mtable\u001B[0m \u001B[1;33m=\u001B[0m \u001B[1;33m[\u001B[0m\u001B[1;33m[\u001B[0m\u001B[0msum\u001B[0m\u001B[1;33m(\u001B[0m\u001B[1;33m(\u001B[0m\u001B[0mpredictions1\u001B[0m \u001B[1;33m==\u001B[0m \u001B[1;36m1\u001B[0m\u001B[1;33m)\u001B[0m \u001B[1;33m&\u001B[0m \u001B[1;33m(\u001B[0m\u001B[0mpredictions2\u001B[0m \u001B[1;33m==\u001B[0m \u001B[1;36m1\u001B[0m\u001B[1;33m)\u001B[0m\u001B[1;33m)\u001B[0m\u001B[1;33m,\u001B[0m \u001B[0msum\u001B[0m\u001B[1;33m(\u001B[0m\u001B[1;33m(\u001B[0m\u001B[0mpredictions1\u001B[0m \u001B[1;33m==\u001B[0m \u001B[1;36m0\u001B[0m\u001B[1;33m)\u001B[0m \u001B[1;33m&\u001B[0m \u001B[1;33m(\u001B[0m\u001B[0mpredictions2\u001B[0m \u001B[1;33m==\u001B[0m \u001B[1;36m1\u001B[0m\u001B[1;33m)\u001B[0m\u001B[1;33m)\u001B[0m\u001B[1;33m]\u001B[0m\u001B[1;33m,\u001B[0m\u001B[1;33m[\u001B[0m\u001B[0msum\u001B[0m\u001B[1;33m(\u001B[0m\u001B[1;33m(\u001B[0m\u001B[0mpredictions1\u001B[0m \u001B[1;33m==\u001B[0m \u001B[1;36m1\u001B[0m\u001B[1;33m)\u001B[0m \u001B[1;33m&\u001B[0m \u001B[1;33m(\u001B[0m\u001B[0mpredictions2\u001B[0m \u001B[1;33m==\u001B[0m \u001B[1;36m0\u001B[0m\u001B[1;33m)\u001B[0m\u001B[1;33m)\u001B[0m\u001B[1;33m,\u001B[0m \u001B[0msum\u001B[0m\u001B[1;33m(\u001B[0m\u001B[1;33m(\u001B[0m\u001B[0mpredictions1\u001B[0m \u001B[1;33m==\u001B[0m \u001B[1;36m0\u001B[0m\u001B[1;33m)\u001B[0m \u001B[1;33m&\u001B[0m \u001B[1;33m(\u001B[0m\u001B[0mpredictions2\u001B[0m \u001B[1;33m==\u001B[0m \u001B[1;36m0\u001B[0m\u001B[1;33m)\u001B[0m\u001B[1;33m)\u001B[0m\u001B[1;33m]\u001B[0m\u001B[1;33m]\u001B[0m\u001B[1;33m\u001B[0m\u001B[1;33m\u001B[0m\u001B[0m\n\u001B[0m\u001B[0;32m     14\u001B[0m \u001B[1;33m\u001B[0m\u001B[0m\n\u001B[0;32m     15\u001B[0m \u001B[1;31m# McNemar's test\u001B[0m\u001B[1;33m\u001B[0m\u001B[1;33m\u001B[0m\u001B[1;33m\u001B[0m\u001B[0m\n",
      "\u001B[1;31mTypeError\u001B[0m: 'bool' object is not iterable"
     ]
    }
   ],
   "source": [],
   "metadata": {
    "collapsed": false
   }
  }
 ],
 "metadata": {
  "kernelspec": {
   "display_name": "Python 3",
   "language": "python",
   "name": "python3"
  },
  "language_info": {
   "codemirror_mode": {
    "name": "ipython",
    "version": 2
   },
   "file_extension": ".py",
   "mimetype": "text/x-python",
   "name": "python",
   "nbconvert_exporter": "python",
   "pygments_lexer": "ipython2",
   "version": "2.7.6"
  }
 },
 "nbformat": 4,
 "nbformat_minor": 0
}
