{
 "cells": [
  {
   "cell_type": "code",
   "execution_count": 2,
   "outputs": [
    {
     "name": "stdout",
     "output_type": "stream",
     "text": [
      "            A         W\n",
      "1   -0.002304 -0.013884\n",
      "2   -0.045322 -0.012962\n",
      "3   -0.010038 -0.008943\n",
      "4   -0.001488 -0.009451\n",
      "16  -0.126048  0.002075\n",
      "..        ...       ...\n",
      "97  -0.073426  0.004875\n",
      "98  -0.258596 -0.007239\n",
      "99   0.222339  0.043556\n",
      "100  0.223893  0.055944\n",
      "101  0.003749 -0.007998\n",
      "\n",
      "[85 rows x 2 columns]\n"
     ]
    }
   ],
   "source": [
    "import pandas as pd\n",
    "from sklearn.model_selection import LeaveOneOut\n",
    "from sklearn.linear_model import LogisticRegression\n",
    "\n",
    "filename = \"horse_data23.txt\"\n",
    "\n",
    "df = pd.read_table(filename)\n",
    "\n",
    "#er ved at prøve og finde ud af hvordan vi reader filen ordentligt det her virker ikke\n",
    "\n",
    "\n"
   ],
   "metadata": {
    "collapsed": false
   }
  },
  {
   "cell_type": "code",
   "execution_count": 11,
   "outputs": [
    {
     "name": "stdout",
     "output_type": "stream",
     "text": [
      "0.3411764705882353\n",
      "['none', 'none', 'none', 'none', 'none', 'none', 'none', 'none', 'none', 'none', 'none', 'none', 'none', 'none', 'none', 'none', 'right:hind', 'none', 'none', 'none', 'right:fore', 'none', 'none', 'none', 'none', 'right:hind', 'left:hind', 'left:hind', 'none', 'none', 'none', 'none', 'none', 'none', 'left:hind', 'none', 'none', 'none', 'right:hind', 'none', 'none', 'none', 'left:hind', 'left:hind', 'none', 'right:fore', 'none', 'none', 'none', 'right:hind', 'right:hind', 'none', 'none', 'right:fore', 'right:fore', 'none', 'right:hind', 'none', 'right:hind', 'right:hind', 'none', 'left:hind', 'none', 'right:fore', 'none', 'none', 'none', 'none', 'left:fore', 'left:hind', 'left:hind', 'none', 'none', 'right:hind', 'right:hind', 'none', 'none', 'left:fore', 'none', 'none', 'none', 'none', 'none', 'none', 'none']\n"
     ]
    }
   ],
   "source": [
    "#logistic regression on A/W\n",
    "\n",
    "#\n",
    "y = df[\"lameLeg\"]\n",
    "X = df[[\"A\",\"W\"]]\n",
    "\n",
    "\n",
    "\n",
    "# Create logistic regression object\n",
    "logistic_regression = LogisticRegression()\n",
    "\n",
    "loo = LeaveOneOut()\n",
    "\n",
    "predictions = []\n",
    "\n",
    "# Loop through the indices of the samples\n",
    "for train_index, test_index in loo.split(X):\n",
    "    # Get the training and test data\n",
    "    X_train, X_test = X.iloc[train_index], X.iloc[test_index]\n",
    "    y_train, y_test = y.iloc[train_index], y.iloc[test_index]\n",
    "\n",
    "    # Fit the model on the training data\n",
    "    logistic_regression.fit(X_train, y_train)\n",
    "\n",
    "    # Make predictions on the test data\n",
    "    y_pred = logistic_regression.predict(X_test)\n",
    "\n",
    "    # Append the prediction to the list\n",
    "    predictions.append(y_pred[0])\n",
    "\n",
    "# Calculate the accuracy of the model\n",
    "accuracy = sum(predictions == y) / len(y)\n",
    "print(accuracy)\n",
    "print(predictions)"
   ],
   "metadata": {
    "collapsed": false
   }
  }
 ],
 "metadata": {
  "kernelspec": {
   "display_name": "Python 3",
   "language": "python",
   "name": "python3"
  },
  "language_info": {
   "codemirror_mode": {
    "name": "ipython",
    "version": 2
   },
   "file_extension": ".py",
   "mimetype": "text/x-python",
   "name": "python",
   "nbconvert_exporter": "python",
   "pygments_lexer": "ipython2",
   "version": "2.7.6"
  }
 },
 "nbformat": 4,
 "nbformat_minor": 0
}
